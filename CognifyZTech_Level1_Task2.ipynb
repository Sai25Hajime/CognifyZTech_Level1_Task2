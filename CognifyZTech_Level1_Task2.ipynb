{
  "nbformat": 4,
  "nbformat_minor": 0,
  "metadata": {
    "colab": {
      "provenance": [],
      "authorship_tag": "ABX9TyNarDK+MQbx7Q/DrFKPeyjT",
      "include_colab_link": true
    },
    "kernelspec": {
      "name": "python3",
      "display_name": "Python 3"
    },
    "language_info": {
      "name": "python"
    }
  },
  "cells": [
    {
      "cell_type": "markdown",
      "metadata": {
        "id": "view-in-github",
        "colab_type": "text"
      },
      "source": [
        "<a href=\"https://colab.research.google.com/github/Sai25Hajime/CognifyZTech_Level1_Task2/blob/main/CognifyZTech_Level1_Task2.ipynb\" target=\"_parent\"><img src=\"https://colab.research.google.com/assets/colab-badge.svg\" alt=\"Open In Colab\"/></a>"
      ]
    },
    {
      "cell_type": "markdown",
      "source": [
        "# Mounting the Google Drive"
      ],
      "metadata": {
        "id": "QWuITogBWFo_"
      }
    },
    {
      "cell_type": "markdown",
      "source": [
        "First we mount the google drive since that is where the dataset will be stored."
      ],
      "metadata": {
        "id": "vXLzMguxWJMd"
      }
    },
    {
      "cell_type": "code",
      "execution_count": 40,
      "metadata": {
        "colab": {
          "base_uri": "https://localhost:8080/"
        },
        "id": "SaY90l4CUNeg",
        "outputId": "99cf4060-b782-4332-fa87-076991f79120"
      },
      "outputs": [
        {
          "output_type": "stream",
          "name": "stdout",
          "text": [
            "Drive already mounted at /content/drive; to attempt to forcibly remount, call drive.mount(\"/content/drive\", force_remount=True).\n"
          ]
        }
      ],
      "source": [
        "#Both are used to import the drive.\n",
        "from google.colab import drive\n",
        "drive.mount('/content/drive')"
      ]
    },
    {
      "cell_type": "markdown",
      "source": [
        "# Importing Libraries"
      ],
      "metadata": {
        "id": "AIqgwQKRWLvh"
      }
    },
    {
      "cell_type": "markdown",
      "source": [
        "Importing libraries is standard practice when coding or working with datasets. In this case we are importing the Pandas, MatPlotlib and Seaborn libraries."
      ],
      "metadata": {
        "id": "5E52s2yDWPgf"
      }
    },
    {
      "cell_type": "code",
      "source": [
        "#Importing the libraries\n",
        "import pandas as pd\n",
        "import matplotlib.pyplot as plt\n",
        "import seaborn as sns\n",
        "import numpy as np"
      ],
      "metadata": {
        "id": "2PzU8EFJUhAd"
      },
      "execution_count": 41,
      "outputs": []
    },
    {
      "cell_type": "markdown",
      "source": [
        "# Loading the Dataset"
      ],
      "metadata": {
        "id": "Hgfd-ygZWlBS"
      }
    },
    {
      "cell_type": "markdown",
      "source": [
        "Now we load the dataset. Since we have uploaded it from Google Drive. We need to put that path instead of the local path."
      ],
      "metadata": {
        "id": "qgkbtBD-WnSy"
      }
    },
    {
      "cell_type": "code",
      "source": [
        "# Load the dataset\n",
        "df = pd.read_csv(\"/content/drive/MyDrive/Datasets/cognifyz_dataset.csv\")"
      ],
      "metadata": {
        "id": "6XhIyTyPUhmB"
      },
      "execution_count": 42,
      "outputs": []
    },
    {
      "cell_type": "markdown",
      "source": [
        "# Displaying Basic Information"
      ],
      "metadata": {
        "id": "PHypzrn8XQMi"
      }
    },
    {
      "cell_type": "markdown",
      "source": [
        "This gives us information about the dataset ranging from number of rows and columns as well as what they contain and their data types."
      ],
      "metadata": {
        "id": "nE_oSfOgXUxr"
      }
    },
    {
      "cell_type": "code",
      "source": [
        "# Display basic info\n",
        "print(\"Dataset Info:\")\n",
        "print(df.info())"
      ],
      "metadata": {
        "colab": {
          "base_uri": "https://localhost:8080/"
        },
        "id": "hpN0BkdpUqr-",
        "outputId": "251afb82-2112-462e-b565-e5d3897edd95"
      },
      "execution_count": 43,
      "outputs": [
        {
          "output_type": "stream",
          "name": "stdout",
          "text": [
            "Dataset Info:\n",
            "<class 'pandas.core.frame.DataFrame'>\n",
            "RangeIndex: 9551 entries, 0 to 9550\n",
            "Data columns (total 21 columns):\n",
            " #   Column                Non-Null Count  Dtype  \n",
            "---  ------                --------------  -----  \n",
            " 0   Restaurant ID         9551 non-null   int64  \n",
            " 1   Restaurant Name       9551 non-null   object \n",
            " 2   Country Code          9551 non-null   int64  \n",
            " 3   City                  9551 non-null   object \n",
            " 4   Address               9551 non-null   object \n",
            " 5   Locality              9551 non-null   object \n",
            " 6   Locality Verbose      9551 non-null   object \n",
            " 7   Longitude             9551 non-null   float64\n",
            " 8   Latitude              9551 non-null   float64\n",
            " 9   Cuisines              9542 non-null   object \n",
            " 10  Average Cost for two  9551 non-null   int64  \n",
            " 11  Currency              9551 non-null   object \n",
            " 12  Has Table booking     9551 non-null   object \n",
            " 13  Has Online delivery   9551 non-null   object \n",
            " 14  Is delivering now     9551 non-null   object \n",
            " 15  Switch to order menu  9551 non-null   object \n",
            " 16  Price range           9551 non-null   int64  \n",
            " 17  Aggregate rating      9551 non-null   float64\n",
            " 18  Rating color          9551 non-null   object \n",
            " 19  Rating text           9551 non-null   object \n",
            " 20  Votes                 9551 non-null   int64  \n",
            "dtypes: float64(3), int64(5), object(13)\n",
            "memory usage: 1.5+ MB\n",
            "None\n"
          ]
        }
      ]
    },
    {
      "cell_type": "code",
      "source": [
        "# Numerical Analysis: Mean, Median, Mode, Standard Deviation\n",
        "numerical_columns = df.select_dtypes(include=[np.number])  # Selecting only numerical columns\n",
        "\n",
        "# Compute descriptive statistics\n",
        "numerical_stats = numerical_columns.describe()  # Provides count, mean, std, min, 25%, 50% (median), 75%, max\n",
        "mean_values = numerical_columns.mean()  # Mean\n",
        "median_values = numerical_columns.median()  # Median\n",
        "mode_values = numerical_columns.mode().iloc[0]  # Mode might return multiple values, taking the first\n",
        "std_values = numerical_columns.std()  # Standard deviation"
      ],
      "metadata": {
        "id": "vcdqDhp3ukO_"
      },
      "execution_count": 44,
      "outputs": []
    },
    {
      "cell_type": "markdown",
      "source": [
        "# Display Summary Statistics"
      ],
      "metadata": {
        "id": "w8Z7-VzZXflE"
      }
    },
    {
      "cell_type": "markdown",
      "source": [
        "Summary Statistics describes our datase in detail."
      ],
      "metadata": {
        "id": "IBJoGqimXtfn"
      }
    },
    {
      "cell_type": "code",
      "source": [
        "# Display summary statistics for numerical columns\n",
        "print(\"\\nSummary Statistics:\")\n",
        "print(numerical_stats)"
      ],
      "metadata": {
        "colab": {
          "base_uri": "https://localhost:8080/"
        },
        "id": "NARqFETAUuBZ",
        "outputId": "12c9881a-a713-45f7-e147-f397c4ef6680"
      },
      "execution_count": 45,
      "outputs": [
        {
          "output_type": "stream",
          "name": "stdout",
          "text": [
            "\n",
            "Summary Statistics:\n",
            "       Restaurant ID  Country Code    Longitude     Latitude  \\\n",
            "count   9.551000e+03   9551.000000  9551.000000  9551.000000   \n",
            "mean    9.051128e+06     18.365616    64.126574    25.854381   \n",
            "std     8.791521e+06     56.750546    41.467058    11.007935   \n",
            "min     5.300000e+01      1.000000  -157.948486   -41.330428   \n",
            "25%     3.019625e+05      1.000000    77.081343    28.478713   \n",
            "50%     6.004089e+06      1.000000    77.191964    28.570469   \n",
            "75%     1.835229e+07      1.000000    77.282006    28.642758   \n",
            "max     1.850065e+07    216.000000   174.832089    55.976980   \n",
            "\n",
            "       Average Cost for two  Price range  Aggregate rating         Votes  \n",
            "count           9551.000000  9551.000000       9551.000000   9551.000000  \n",
            "mean            1199.210763     1.804837          2.666370    156.909748  \n",
            "std            16121.183073     0.905609          1.516378    430.169145  \n",
            "min                0.000000     1.000000          0.000000      0.000000  \n",
            "25%              250.000000     1.000000          2.500000      5.000000  \n",
            "50%              400.000000     2.000000          3.200000     31.000000  \n",
            "75%              700.000000     2.000000          3.700000    131.000000  \n",
            "max           800000.000000     4.000000          4.900000  10934.000000  \n"
          ]
        }
      ]
    },
    {
      "cell_type": "code",
      "source": [
        "print(\"\\n🔹 Mean Values:\")\n",
        "print(mean_values)\n",
        "\n",
        "print(\"\\n🔹 Median Values:\")\n",
        "print(median_values)\n",
        "\n",
        "print(\"\\n🔹 Mode Values:\")\n",
        "print(mode_values)\n",
        "\n",
        "print(\"\\n🔹 Standard Deviation Values:\")\n",
        "print(std_values)"
      ],
      "metadata": {
        "colab": {
          "base_uri": "https://localhost:8080/"
        },
        "id": "caZsPUpTu00D",
        "outputId": "bf217e9e-28a8-46b9-b242-b5f6aa27ccf7"
      },
      "execution_count": 46,
      "outputs": [
        {
          "output_type": "stream",
          "name": "stdout",
          "text": [
            "\n",
            "🔹 Mean Values:\n",
            "Restaurant ID           9.051128e+06\n",
            "Country Code            1.836562e+01\n",
            "Longitude               6.412657e+01\n",
            "Latitude                2.585438e+01\n",
            "Average Cost for two    1.199211e+03\n",
            "Price range             1.804837e+00\n",
            "Aggregate rating        2.666370e+00\n",
            "Votes                   1.569097e+02\n",
            "dtype: float64\n",
            "\n",
            "🔹 Median Values:\n",
            "Restaurant ID           6.004089e+06\n",
            "Country Code            1.000000e+00\n",
            "Longitude               7.719196e+01\n",
            "Latitude                2.857047e+01\n",
            "Average Cost for two    4.000000e+02\n",
            "Price range             2.000000e+00\n",
            "Aggregate rating        3.200000e+00\n",
            "Votes                   3.100000e+01\n",
            "dtype: float64\n",
            "\n",
            "🔹 Mode Values:\n",
            "Restaurant ID            53.0\n",
            "Country Code              1.0\n",
            "Longitude                 0.0\n",
            "Latitude                  0.0\n",
            "Average Cost for two    500.0\n",
            "Price range               1.0\n",
            "Aggregate rating          0.0\n",
            "Votes                     0.0\n",
            "Name: 0, dtype: float64\n",
            "\n",
            "🔹 Standard Deviation Values:\n",
            "Restaurant ID           8.791521e+06\n",
            "Country Code            5.675055e+01\n",
            "Longitude               4.146706e+01\n",
            "Latitude                1.100794e+01\n",
            "Average Cost for two    1.612118e+04\n",
            "Price range             9.056088e-01\n",
            "Aggregate rating        1.516378e+00\n",
            "Votes                   4.301691e+02\n",
            "dtype: float64\n"
          ]
        }
      ]
    },
    {
      "cell_type": "markdown",
      "source": [
        "# Categorical Variable Distribution"
      ],
      "metadata": {
        "id": "2Zq6JqKfXzSt"
      }
    },
    {
      "cell_type": "markdown",
      "source": [
        "Categorical variables represent data that can be sorted into distinct groups or categories. Here the Country Code, City and Cusinies have been categorized."
      ],
      "metadata": {
        "id": "4ZrFvrnqYPuJ"
      }
    },
    {
      "cell_type": "code",
      "source": [
        "# Distribution of categorical variables\n",
        "categorical_columns = [\"Country Code\", \"City\", \"Cuisines\"]  # Modify as needed\n",
        "for col in categorical_columns:\n",
        "    print(f\"\\n{col} Distribution:\")\n",
        "    print(df[col].value_counts())"
      ],
      "metadata": {
        "colab": {
          "base_uri": "https://localhost:8080/"
        },
        "id": "hyIgJ0tmVhUm",
        "outputId": "8cbad565-5723-43f4-849e-dc37c3ced33a"
      },
      "execution_count": 47,
      "outputs": [
        {
          "output_type": "stream",
          "name": "stdout",
          "text": [
            "\n",
            "Country Code Distribution:\n",
            "Country Code\n",
            "1      8652\n",
            "216     434\n",
            "215      80\n",
            "30       60\n",
            "189      60\n",
            "214      60\n",
            "148      40\n",
            "208      34\n",
            "14       24\n",
            "162      22\n",
            "94       21\n",
            "166      20\n",
            "184      20\n",
            "191      20\n",
            "37        4\n",
            "Name: count, dtype: int64\n",
            "\n",
            "City Distribution:\n",
            "City\n",
            "New Delhi         5473\n",
            "Gurgaon           1118\n",
            "Noida             1080\n",
            "Faridabad          251\n",
            "Ghaziabad           25\n",
            "                  ... \n",
            "Lakes Entrance       1\n",
            "Mohali               1\n",
            "Panchkula            1\n",
            "Bandung              1\n",
            "Randburg             1\n",
            "Name: count, Length: 141, dtype: int64\n",
            "\n",
            "Cuisines Distribution:\n",
            "Cuisines\n",
            "North Indian                          936\n",
            "North Indian, Chinese                 511\n",
            "Chinese                               354\n",
            "Fast Food                             354\n",
            "North Indian, Mughlai                 334\n",
            "                                     ... \n",
            "World Cuisine, Patisserie, Cafe         1\n",
            "Burger, Izgara                          1\n",
            "Desserts, B�_rek                        1\n",
            "Restaurant Cafe, Turkish, Desserts      1\n",
            "Restaurant Cafe, Desserts               1\n",
            "Name: count, Length: 1825, dtype: int64\n"
          ]
        }
      ]
    },
    {
      "cell_type": "markdown",
      "source": [
        "# Plotting the Cities with Highest Number of Restaurants"
      ],
      "metadata": {
        "id": "3qy6QpLqdR7S"
      }
    },
    {
      "cell_type": "markdown",
      "source": [
        "Here we use Seaborn Barplot and Matplotlib Plot to show top cities with the highest number of restaurants."
      ],
      "metadata": {
        "id": "jnplDZwBdX-H"
      }
    },
    {
      "cell_type": "code",
      "source": [
        "# Top Cities with Highest Number of Restaurants\n",
        "top_cities = df[\"City\"].value_counts().head(10)\n",
        "plt.figure(figsize=(10,5))\n",
        "sns.barplot(x=top_cities.values, y=top_cities.index, palette=\"viridis\")\n",
        "plt.xlabel(\"Number of Restaurants\")\n",
        "plt.ylabel(\"City\")\n",
        "plt.title(\"Top 10 Cities with Most Restaurants\")\n",
        "plt.show()"
      ],
      "metadata": {
        "colab": {
          "base_uri": "https://localhost:8080/",
          "height": 574
        },
        "id": "XwTrhKZfVkjK",
        "outputId": "b408cec6-f41c-4340-cb02-f621b4fd5731"
      },
      "execution_count": 48,
      "outputs": [
        {
          "output_type": "stream",
          "name": "stderr",
          "text": [
            "<ipython-input-48-82148e37f230>:4: FutureWarning: \n",
            "\n",
            "Passing `palette` without assigning `hue` is deprecated and will be removed in v0.14.0. Assign the `y` variable to `hue` and set `legend=False` for the same effect.\n",
            "\n",
            "  sns.barplot(x=top_cities.values, y=top_cities.index, palette=\"viridis\")\n"
          ]
        },
        {
          "output_type": "display_data",
          "data": {
            "text/plain": [
              "<Figure size 1000x500 with 1 Axes>"
            ],
            "image/png": "[encoded data removed]"
          },
          "metadata": {}
        }
      ]
    },
    {
      "cell_type": "markdown",
      "source": [
        "# Calculating the Highest Occurrences"
      ],
      "metadata": {
        "id": "SjuTfPtyftvn"
      }
    },
    {
      "cell_type": "markdown",
      "source": [
        "We plot the 10 most popular cuisines that our country has to offer."
      ],
      "metadata": {
        "id": "FH29gkUnp5G3"
      }
    },
    {
      "cell_type": "code",
      "source": [
        "# Top Cuisines with Highest Occurrences\n",
        "df[\"Cuisines\"] = df[\"Cuisines\"].astype(str)  # Convert to string if needed\n",
        "df[\"Cuisines\"] = df[\"Cuisines\"].apply(lambda x: x.split(\",\")[0])  # Take the first cuisine type\n",
        "top_cuisines = df[\"Cuisines\"].value_counts().head(10)\n",
        "plt.figure(figsize=(10,5))\n",
        "sns.barplot(x=top_cuisines.values, y=top_cuisines.index, palette=\"coolwarm\")\n",
        "plt.xlabel(\"Number of Restaurants\")\n",
        "plt.ylabel(\"Cuisine\")\n",
        "plt.title(\"Top 10 Most Popular Cuisines\")\n",
        "plt.show()"
      ],
      "metadata": {
        "colab": {
          "base_uri": "https://localhost:8080/",
          "height": 574
        },
        "id": "A9dyZ1k3Vndz",
        "outputId": "bb69c210-9839-4e67-924e-a2ac7f86c31b"
      },
      "execution_count": 49,
      "outputs": [
        {
          "output_type": "stream",
          "name": "stderr",
          "text": [
            "<ipython-input-49-1eb391f6701e>:6: FutureWarning: \n",
            "\n",
            "Passing `palette` without assigning `hue` is deprecated and will be removed in v0.14.0. Assign the `y` variable to `hue` and set `legend=False` for the same effect.\n",
            "\n",
            "  sns.barplot(x=top_cuisines.values, y=top_cuisines.index, palette=\"coolwarm\")\n"
          ]
        },
        {
          "output_type": "display_data",
          "data": {
            "text/plain": [
              "<Figure size 1000x500 with 1 Axes>"
            ],
            "image/png": "[encoded data removed]"
          },
          "metadata": {}
        }
      ]
    }
  ]
}